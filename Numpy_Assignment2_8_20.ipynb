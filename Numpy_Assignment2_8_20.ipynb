{
  "metadata": {
    "kernelspec": {
      "name": "python",
      "display_name": "Python (Pyodide)",
      "language": "python"
    },
    "language_info": {
      "codemirror_mode": {
        "name": "python",
        "version": 3
      },
      "file_extension": ".py",
      "mimetype": "text/x-python",
      "name": "python",
      "nbconvert_exporter": "python",
      "pygments_lexer": "ipython3",
      "version": "3.8"
    },
    "colab": {
      "provenance": [],
      "include_colab_link": true
    }
  },
  "nbformat_minor": 0,
  "nbformat": 4,
  "cells": [
    {
      "cell_type": "markdown",
      "metadata": {
        "id": "view-in-github",
        "colab_type": "text"
      },
      "source": [
        "<a href=\"https://colab.research.google.com/github/DR2023/demo-git/blob/main/Numpy_Assignment2_8_20.ipynb\" target=\"_parent\"><img src=\"https://colab.research.google.com/assets/colab-badge.svg\" alt=\"Open In Colab\"/></a>"
      ]
    },
    {
      "cell_type": "markdown",
      "source": [
        "# 2D Numpy in Python\n",
        "\n",
        "\n",
        "Estimated time needed: **20** minutes\n",
        "    \n",
        "\n",
        "## Objectives\n",
        "\n",
        "After completing this you will be able to:\n",
        "\n",
        "* Operate comfortably with `numpy`\n",
        "* Perform complex operations with `numpy`\n"
      ],
      "metadata": {
        "id": "SKDe0gE8koTu"
      }
    },
    {
      "cell_type": "markdown",
      "source": [
        "<h2>Table of Contents</h2>\n",
        "<div class=\"alert alert-block alert-info\" style=\"margin-top: 20px\">\n",
        "    <ul>\n",
        "        <li><a href=\"create\">Create a 2D Numpy Array</a></li>\n",
        "        <li><a href=\"access\">Accessing different elements of a Numpy Array</a></li>\n",
        "        <li><a href=\"op\">Basic Operations</a></li>\n",
        "    </ul>\n",
        "  \n",
        "</div>\n",
        "\n",
        "<hr>\n"
      ],
      "metadata": {
        "id": "E55oEZ3HkoT0"
      }
    },
    {
      "cell_type": "markdown",
      "source": [
        "<h2 id=\"create\">Create a 2D Numpy Array</h2>\n"
      ],
      "metadata": {
        "id": "P6LXHLc4koT1"
      }
    },
    {
      "cell_type": "code",
      "source": [
        "# Import the libraries\n",
        "\n"
      ],
      "metadata": {
        "id": "raPCzr-gkoT2"
      },
      "execution_count": null,
      "outputs": []
    },
    {
      "cell_type": "markdown",
      "source": [
        "Consider the list <code>a</code>, which contains three nested lists **each of equal size**.\n"
      ],
      "metadata": {
        "id": "FNkqtn_EkoT3"
      }
    },
    {
      "cell_type": "code",
      "source": [
        "# Create a list\n",
        "\n"
      ],
      "metadata": {
        "id": "sbiNO-61koT4"
      },
      "execution_count": null,
      "outputs": []
    },
    {
      "cell_type": "markdown",
      "source": [
        "We can cast the list to a Numpy Array as follows:\n"
      ],
      "metadata": {
        "id": "qhghCrC4koT5"
      }
    },
    {
      "cell_type": "code",
      "source": [
        "# Convert list to Numpy Array\n",
        "# Every element is the same type\n",
        "\n"
      ],
      "metadata": {
        "id": "FgsWfyYkkoT6"
      },
      "execution_count": null,
      "outputs": []
    },
    {
      "cell_type": "markdown",
      "source": [
        "We can use the attribute <code>ndim</code> to obtain the number of axes or dimensions, referred to as the rank.\n"
      ],
      "metadata": {
        "id": "wbkshNRokoT7"
      }
    },
    {
      "cell_type": "code",
      "source": [
        "# Show the numpy array dimensions\n",
        "\n"
      ],
      "metadata": {
        "id": "nq0tu3x3koT7"
      },
      "execution_count": null,
      "outputs": []
    },
    {
      "cell_type": "markdown",
      "source": [
        "Attribute <code>shape</code> returns a tuple corresponding to the size or number of each dimension.\n"
      ],
      "metadata": {
        "id": "hKkrrdx2koT8"
      }
    },
    {
      "cell_type": "code",
      "source": [
        "# Show the numpy array shape\n",
        "\n"
      ],
      "metadata": {
        "id": "2QVK26YdkoT8"
      },
      "execution_count": null,
      "outputs": []
    },
    {
      "cell_type": "markdown",
      "source": [
        "The total number of elements in the array is given by the attribute <code>size</code>.\n"
      ],
      "metadata": {
        "id": "uJZsubgzkoT8"
      }
    },
    {
      "cell_type": "code",
      "source": [
        "# Show the numpy array size\n",
        "\n"
      ],
      "metadata": {
        "id": "OBA7l__KkoT8"
      },
      "execution_count": null,
      "outputs": []
    },
    {
      "cell_type": "markdown",
      "source": [
        "<hr>\n"
      ],
      "metadata": {
        "id": "6xOux8sKkoT8"
      }
    },
    {
      "cell_type": "markdown",
      "source": [
        "<h2 id=\"access\">Accessing different elements of a Numpy Array</h2>\n"
      ],
      "metadata": {
        "id": "kQoDHs_HkoT9"
      }
    },
    {
      "cell_type": "markdown",
      "source": [
        "We can use rectangular brackets to access the different elements of the array. The correspondence between the rectangular brackets and the list and the rectangular representation is shown in the following figure for a 3x3 array:  \n"
      ],
      "metadata": {
        "id": "K-7z5ByUkoT9"
      }
    },
    {
      "cell_type": "markdown",
      "source": [
        "<img src=\"https://cf-courses-data.s3.us.cloud-object-storage.appdomain.cloud/IBMDeveloperSkillsNetwork-PY0101EN-SkillsNetwork/labs/Module%205/images/NumTwoEg.png\" width=\"500\">\n"
      ],
      "metadata": {
        "id": "G_buhzY2koT9"
      }
    },
    {
      "cell_type": "markdown",
      "source": [
        "We can access the 2nd-row, 3rd column as shown in the following figure:\n"
      ],
      "metadata": {
        "id": "nTy7rQhDkoT9"
      }
    },
    {
      "cell_type": "markdown",
      "source": [
        "<img src=\"https://cf-courses-data.s3.us.cloud-object-storage.appdomain.cloud/IBMDeveloperSkillsNetwork-PY0101EN-SkillsNetwork/labs/Module%205/images/NumTwoFT.png\" width=\"400\">\n"
      ],
      "metadata": {
        "id": "BcP6WFhbkoT9"
      }
    },
    {
      "cell_type": "markdown",
      "source": [
        " We simply use the square brackets and the indices corresponding to the element we would like:\n",
        "\n",
        "Create a 3x3 matrix as above"
      ],
      "metadata": {
        "id": "0QTkKkhmkoT9"
      }
    },
    {
      "cell_type": "code",
      "source": [
        "# Access the element on the second row and third column\n",
        "\n"
      ],
      "metadata": {
        "id": "sMKqUCk2koT-"
      },
      "execution_count": null,
      "outputs": []
    },
    {
      "cell_type": "markdown",
      "source": [
        "We can also use slicing in numpy arrays. Consider the following figure. We would like to obtain the first two columns in the first row\n"
      ],
      "metadata": {
        "id": "X2VUp6ZTkoT_"
      }
    },
    {
      "cell_type": "markdown",
      "source": [
        "<img src=\"https://cf-courses-data.s3.us.cloud-object-storage.appdomain.cloud/IBMDeveloperSkillsNetwork-PY0101EN-SkillsNetwork/labs/Module%205/images/NumTwoFSF.png\" width=\"400\">\n"
      ],
      "metadata": {
        "id": "gNqo2bNmkoT_"
      }
    },
    {
      "cell_type": "markdown",
      "source": [
        " This can be done with the following syntax:\n"
      ],
      "metadata": {
        "id": "gYTtwac9koT_"
      }
    },
    {
      "cell_type": "code",
      "source": [
        "# Access the element on the first row and first and second columns\n",
        "\n"
      ],
      "metadata": {
        "id": "W53ZEQV-koT_"
      },
      "execution_count": null,
      "outputs": []
    },
    {
      "cell_type": "markdown",
      "source": [
        "Similarly, we can obtain the first two rows of the 3rd column as follows:\n"
      ],
      "metadata": {
        "id": "93Og12PzkoUA"
      }
    },
    {
      "cell_type": "code",
      "source": [
        "# Access the element on the first and second rows and third column\n",
        "\n"
      ],
      "metadata": {
        "id": "i3AbRbrwkoUA"
      },
      "execution_count": null,
      "outputs": []
    },
    {
      "cell_type": "markdown",
      "source": [
        "Corresponding to the following figure:\n"
      ],
      "metadata": {
        "id": "duk-CUlskoUA"
      }
    },
    {
      "cell_type": "markdown",
      "source": [
        "<img src=\"https://cf-courses-data.s3.us.cloud-object-storage.appdomain.cloud/IBMDeveloperSkillsNetwork-PY0101EN-SkillsNetwork/labs/Module%205/images/2D_numpy.png\" width=\"550\"><br />\n"
      ],
      "metadata": {
        "id": "TRKdk4ZmkoUA"
      }
    },
    {
      "cell_type": "markdown",
      "source": [
        "<h2 id=\"op\">Basic Operations</h2>\n"
      ],
      "metadata": {
        "id": "LJBTJ94qkoUA"
      }
    },
    {
      "cell_type": "markdown",
      "source": [
        "We can also add arrays. The process is identical to matrix addition. Matrix addition of <code>X</code> and <code>Y</code> is shown in the following figure:\n"
      ],
      "metadata": {
        "id": "C0wHpWt-koUB"
      }
    },
    {
      "cell_type": "markdown",
      "source": [
        "<img src=\"https://cf-courses-data.s3.us.cloud-object-storage.appdomain.cloud/IBMDeveloperSkillsNetwork-PY0101EN-SkillsNetwork/labs/Module%205/images/NumTwoAdd.png\" width=\"500\">\n"
      ],
      "metadata": {
        "id": "GbgZdMgUkoUB"
      }
    },
    {
      "cell_type": "markdown",
      "source": [
        "The numpy array is given by <code>X</code> and <code>Y</code>\n"
      ],
      "metadata": {
        "id": "lwp9OYM6koUG"
      }
    },
    {
      "cell_type": "code",
      "source": [
        "# Create a numpy array X\n",
        "\n",
        "X ="
      ],
      "metadata": {
        "id": "OTtTJyDnkoUH"
      },
      "execution_count": null,
      "outputs": []
    },
    {
      "cell_type": "code",
      "source": [
        "# Create a numpy array Y\n",
        "\n",
        "Y ="
      ],
      "metadata": {
        "id": "glCcwsMYkoUH"
      },
      "execution_count": null,
      "outputs": []
    },
    {
      "cell_type": "markdown",
      "source": [
        " We can add the numpy arrays as follows.\n"
      ],
      "metadata": {
        "id": "9NPYM-ZRkoUH"
      }
    },
    {
      "cell_type": "code",
      "source": [
        "# Add X and Y\n",
        "\n",
        "Z =\n",
        "Z"
      ],
      "metadata": {
        "id": "cQKCuz61koUH"
      },
      "execution_count": null,
      "outputs": []
    },
    {
      "cell_type": "markdown",
      "source": [
        "Multiplying a numpy array by a scaler is identical to multiplying a matrix by a scaler. If we multiply the matrix <code>Y</code> by the scaler 2, we simply multiply every element in the matrix by 2, as shown in the figure.\n"
      ],
      "metadata": {
        "id": "25Y78wQOkoUI"
      }
    },
    {
      "cell_type": "markdown",
      "source": [
        "<img src=\"https://cf-courses-data.s3.us.cloud-object-storage.appdomain.cloud/IBMDeveloperSkillsNetwork-PY0101EN-SkillsNetwork/labs/Module%205/images/NumTwoDb.png\" width=\"500\">\n"
      ],
      "metadata": {
        "id": "QZFVfIEnkoUI"
      }
    },
    {
      "cell_type": "markdown",
      "source": [
        "We can perform the same operation in numpy as follows\n"
      ],
      "metadata": {
        "id": "tTwZc5MnkoUI"
      }
    },
    {
      "cell_type": "code",
      "source": [
        "# Create a numpy array Y\n",
        "\n",
        "Y ="
      ],
      "metadata": {
        "id": "t7rSaOAYkoUI"
      },
      "execution_count": null,
      "outputs": []
    },
    {
      "cell_type": "code",
      "source": [
        "# Multiply Y with 2\n",
        "\n",
        "Z ="
      ],
      "metadata": {
        "id": "g4MYNp_AkoUI"
      },
      "execution_count": null,
      "outputs": []
    },
    {
      "cell_type": "markdown",
      "source": [
        "Multiplication of two arrays corresponds to an element-wise product or <em>Hadamard product</em>. Consider matrix <code>X</code> and <code>Y</code>. The Hadamard product corresponds to multiplying each of the elements in the same position, i.e. multiplying elements contained in the same color boxes together. The result is a new matrix that is the same size as matrix <code>Y</code> or <code>X</code>, as shown in the following figure.\n"
      ],
      "metadata": {
        "id": "Cev7-jxSkoUJ"
      }
    },
    {
      "cell_type": "markdown",
      "source": [
        "<img src=\"https://cf-courses-data.s3.us.cloud-object-storage.appdomain.cloud/IBMDeveloperSkillsNetwork-PY0101EN-SkillsNetwork/labs/Module%205/images/NumTwoMul.png\" width=\"500\">\n"
      ],
      "metadata": {
        "id": "y7dZ78U4koUJ"
      }
    },
    {
      "cell_type": "markdown",
      "source": [
        "We can perform element-wise product of the array <code>X</code> and <code>Y</code> as follows:\n"
      ],
      "metadata": {
        "id": "_S5FM3AjkoUJ"
      }
    },
    {
      "cell_type": "code",
      "source": [
        "# Create a numpy array Y\n",
        "\n",
        "Y ="
      ],
      "metadata": {
        "id": "GPQBw6kMkoUJ"
      },
      "execution_count": null,
      "outputs": []
    },
    {
      "cell_type": "code",
      "source": [
        "# Create a numpy array X\n",
        "\n",
        "X ="
      ],
      "metadata": {
        "id": "aGmQHpmFkoUJ"
      },
      "execution_count": null,
      "outputs": []
    },
    {
      "cell_type": "code",
      "source": [
        "# Multiply X with Y\n",
        "\n",
        "Z ="
      ],
      "metadata": {
        "id": "lrjni6ptkoUJ"
      },
      "execution_count": null,
      "outputs": []
    },
    {
      "cell_type": "markdown",
      "source": [
        "We can also perform matrix multiplication with the numpy arrays <code>A</code> and <code>B</code> as follows:\n"
      ],
      "metadata": {
        "id": "YaGqXrsJkoUK"
      }
    },
    {
      "cell_type": "markdown",
      "source": [
        "First, we define matrix <code>A</code> and <code>B</code>:\n"
      ],
      "metadata": {
        "id": "QsFsNJKfkoUK"
      }
    },
    {
      "cell_type": "code",
      "source": [
        "# Create a matrix A of 2x3\n",
        "\n",
        "A ="
      ],
      "metadata": {
        "id": "6lvXfCcskoUK"
      },
      "execution_count": null,
      "outputs": []
    },
    {
      "cell_type": "code",
      "source": [
        "# Create a matrix B of 3x3\n",
        "\n",
        "B ="
      ],
      "metadata": {
        "id": "DqrnYsQMkoUK"
      },
      "execution_count": null,
      "outputs": []
    },
    {
      "cell_type": "markdown",
      "source": [
        "We use the numpy function <code>dot</code> to multiply the arrays together.\n"
      ],
      "metadata": {
        "id": "cHWWyVPWkoUL"
      }
    },
    {
      "cell_type": "code",
      "source": [
        "# Calculate the dot product\n",
        "\n",
        "Z ="
      ],
      "metadata": {
        "id": "3DFcLrHUkoUL"
      },
      "execution_count": null,
      "outputs": []
    },
    {
      "cell_type": "code",
      "source": [
        "# Calculate the sine of Z\n"
      ],
      "metadata": {
        "id": "J2mL6btykoUL"
      },
      "execution_count": null,
      "outputs": []
    },
    {
      "cell_type": "markdown",
      "source": [
        "We use the numpy attribute <code>T</code> to calculate the transposed matrix\n"
      ],
      "metadata": {
        "id": "VrfwesqNkoUL"
      }
    },
    {
      "cell_type": "code",
      "source": [
        "# Create a matrix C\n",
        "\n",
        "C ="
      ],
      "metadata": {
        "id": "-yyGyu9JkoUL"
      },
      "execution_count": null,
      "outputs": []
    },
    {
      "cell_type": "code",
      "source": [
        "# Get the transposed of C\n"
      ],
      "metadata": {
        "id": "2qzC-a28koUM"
      },
      "execution_count": null,
      "outputs": []
    },
    {
      "cell_type": "markdown",
      "source": [
        "<h2>Quiz on 2D Numpy Array</h2>\n"
      ],
      "metadata": {
        "id": "4A-kBac6koUM"
      }
    },
    {
      "cell_type": "markdown",
      "source": [
        "Consider the following list <code>a</code>, convert it to Numpy Array.\n"
      ],
      "metadata": {
        "id": "VF4vFLdXkoUM"
      }
    },
    {
      "cell_type": "code",
      "source": [
        "# Create a 2D Numpy array with 3rows and 4 columns\n",
        "A = [[1, 2, 3, 4], [5, 6, 7, 8], [9, 10, 11, 12]]"
      ],
      "metadata": {
        "id": "6zVIur8NkoUM"
      },
      "execution_count": null,
      "outputs": []
    },
    {
      "cell_type": "markdown",
      "source": [
        "Calculate the numpy array size.\n"
      ],
      "metadata": {
        "id": "CfspBLcDkoUN"
      }
    },
    {
      "cell_type": "code",
      "source": [
        "# Write your code below and press Shift+Enter to execute\n",
        "A"
      ],
      "metadata": {
        "id": "f1jpxYn1koUN"
      },
      "execution_count": null,
      "outputs": []
    },
    {
      "cell_type": "markdown",
      "source": [
        "Access the element on the first row and first and second columns.\n"
      ],
      "metadata": {
        "id": "n4XRXXfGkoUN"
      }
    },
    {
      "cell_type": "code",
      "source": [
        "# Write your code below and press Shift+Enter to execute\n",
        "A"
      ],
      "metadata": {
        "id": "SXtvf0kYkoUN"
      },
      "execution_count": null,
      "outputs": []
    },
    {
      "cell_type": "markdown",
      "source": [
        "Perform matrix multiplication with the numpy arrays <code>A</code> and <code>B</code>.\n"
      ],
      "metadata": {
        "id": "7_thZTzQkoUO"
      }
    },
    {
      "cell_type": "code",
      "source": [
        "# Write your code below and press Shift+Enter to execute\n",
        "\n",
        "B = np.array([[0, 1], [1, 0], [1, 1], [-1, 0]])"
      ],
      "metadata": {
        "id": "O5S4_ICBkoUO"
      },
      "execution_count": null,
      "outputs": []
    }
  ]
}